{
 "cells": [
  {
   "cell_type": "markdown",
   "id": "6b6b89bf",
   "metadata": {},
   "source": [
    "<h1 style=\"color:rgb(255, 98, 0);\">1. Why Pydantic</h1>"
   ]
  },
  {
   "cell_type": "markdown",
   "id": "919fd9ae",
   "metadata": {},
   "source": [
    "\n",
    "Pydantic is used in FastAPI to:\n",
    "\n",
    "👉 Validate and parse input data automatically (e.g., JSON to Python objects)\n",
    "\n",
    "👉 Ensure data types are correct using Python type hints\n",
    "\n",
    "👉 Raise clear errors when data is invalid\n",
    "\n",
    "In short:\n",
    "\n",
    "Pydantic = Data validation + Conversion + Error handling ✅\n",
    "\n",
    "Here, in below example we have to write too much of manual code when we scale up. Which is not suitable for high scale projects hence Pydantic came into picture."
   ]
  },
  {
   "cell_type": "code",
   "execution_count": 5,
   "id": "764ee60d",
   "metadata": {},
   "outputs": [
    {
     "data": {
      "text/plain": [
       "{'name': 'John Doe', 'age': 30}"
      ]
     },
     "execution_count": 5,
     "metadata": {},
     "output_type": "execute_result"
    }
   ],
   "source": [
    "def insert_patient_data(name : str, age: int):\n",
    "    if type(name) == str and type(age) == int:\n",
    "        if age < 0:\n",
    "            raise ValueError(\"Age cannot be negative.\")\n",
    "        else:\n",
    "            return {\"name\": name, \"age\": age}\n",
    "    else:\n",
    "        raise TypeError(\"Invalid data types: name must be a string and age must be an integer.\")\n",
    "\n",
    "# if not correctly typed, it will raise a TypeError\n",
    "insert_patient_data(\"John Doe\", 30)"
   ]
  },
  {
   "cell_type": "code",
   "execution_count": 6,
   "id": "167d5069",
   "metadata": {},
   "outputs": [],
   "source": [
    "def update_patient_data(name: str, age: int):\n",
    "    if type(name) == str and type(age) == int:\n",
    "        if age < 0:\n",
    "            raise ValueError(\"Age cannot be negative.\")\n",
    "        else:\n",
    "            return {\"name\": name, \"age\": age}\n",
    "    else:\n",
    "        raise TypeError(\"Invalid data types: name must be a string and age must be an integer.\")"
   ]
  },
  {
   "cell_type": "markdown",
   "id": "507df89b",
   "metadata": {},
   "source": [
    "### Type Validation"
   ]
  },
  {
   "cell_type": "code",
   "execution_count": 7,
   "id": "7d838ae2",
   "metadata": {},
   "outputs": [
    {
     "name": "stdout",
     "output_type": "stream",
     "text": [
      "John Doe\n",
      "30\n",
      "None\n",
      "Updated\n"
     ]
    }
   ],
   "source": [
    "from pydantic import BaseModel\n",
    "from typing import List, Dict, Optional\n",
    "\n",
    "class Patient(BaseModel):\n",
    "    name: str\n",
    "    age: int\n",
    "    weight: float\n",
    "    married: bool\n",
    "    # we used typing module in order to check the type of data stored\n",
    "    allergies: Optional[List[str]] = None # We have to use None as default value for optional fields\n",
    "    contact_info: Dict[str, str]\n",
    "\n",
    "def insert_patient_data(patient: Patient):\n",
    "    print(patient.name)\n",
    "    print(patient.age)\n",
    "    print('Inserted')\n",
    "\n",
    "def update_patient_data(patient: Patient):\n",
    "    print(patient.name)\n",
    "    print(patient.age)\n",
    "    print(patient.allergies)\n",
    "    print('Updated')\n",
    "\n",
    "patient_info = {'name': \"John Doe\" , 'age': '30', 'weight': 75.2, 'married': True, 'contact_info':{'email':'abc@gmail.com', 'phone':'123456789'}} # This 30 will get converted to int by Pydantic\n",
    "\n",
    "patient1 = Patient(**patient_info)\n",
    "\n",
    "update_patient_data(patient1)"
   ]
  },
  {
   "cell_type": "markdown",
   "id": "039b1fb0",
   "metadata": {},
   "source": [
    "### Data Validation"
   ]
  },
  {
   "cell_type": "code",
   "execution_count": 8,
   "id": "e26c421c",
   "metadata": {},
   "outputs": [
    {
     "name": "stdout",
     "output_type": "stream",
     "text": [
      "John Doe\n",
      "30\n",
      "abc@gmail.com\n",
      "https://www.youtube.com/watch?v=lRArylZCeOs&t=119s\n",
      "Updated\n"
     ]
    }
   ],
   "source": [
    "from pydantic import BaseModel, EmailStr, AnyUrl, Field\n",
    "from typing import List, Dict, Optional, Annotated\n",
    "\n",
    "class Patient(BaseModel):\n",
    "    name: Annotated[str, Field(max_length=50, title='Name of the patient', description='Give the name of the patient in less than 50 chars', examples=['Nitish', 'Amit'])]\n",
    "    email: EmailStr\n",
    "    linkedin_url: AnyUrl\n",
    "    age: int\n",
    "    weight: Annotated[float, Field(gt=0, strict=True)] # strict=True ensures that the value is a float and not a string\n",
    "    married: Annotated[bool, Field(default=None, description='Is the patient married or not')]\n",
    "    # we used typing module in order to check the type of data stored\n",
    "    allergies: Annotated[Optional[List[str]], Field(default=None, max_length=5)] # We have to use None as default value for optional fields\n",
    "    contact_info: Dict[str, str]\n",
    "\n",
    "def update_patient_data(patient: Patient):\n",
    "    print(patient.name)\n",
    "    print(patient.age)\n",
    "    print(patient.email)\n",
    "    print(patient.linkedin_url)\n",
    "    print('Updated')\n",
    "\n",
    "patient_info = {'name': \"John Doe\" , 'age': '30', 'email':'abc@gmail.com', 'linkedin_url':'https://www.youtube.com/watch?v=lRArylZCeOs&t=119s' ,'weight': 75.2, 'married': True, 'contact_info':{'phone':'123456789'}} # This 30 will get converted to int by Pydantic\n",
    "\n",
    "patient1 = Patient(**patient_info)\n",
    "\n",
    "update_patient_data(patient1)"
   ]
  },
  {
   "cell_type": "markdown",
   "id": "e7444432",
   "metadata": {},
   "source": [
    "<h1 style=\"color:rgb(255, 98, 0);\">2. Field Validator</h1>"
   ]
  },
  {
   "cell_type": "markdown",
   "id": "40c210b8",
   "metadata": {},
   "source": [
    "Field Validator is used to:\n",
    "\n",
    "👉 Add custom validation logic for a specific field or we can do custom transformations as well\n",
    "\n",
    "👉 Ensure values meet rules that can’t be handled by standard Field() constraints\n",
    "\n",
    "In short:\n",
    "\n",
    "Field Validator = Custom rule checker for one field ✅"
   ]
  },
  {
   "cell_type": "code",
   "execution_count": 11,
   "id": "1643ae03",
   "metadata": {},
   "outputs": [
    {
     "name": "stdout",
     "output_type": "stream",
     "text": [
      "AADISH\n",
      "30\n",
      "['pollen', 'dust']\n",
      "True\n",
      "updated\n"
     ]
    }
   ],
   "source": [
    "from pydantic import BaseModel, EmailStr, AnyUrl, Field, field_validator\n",
    "from typing import List, Dict, Optional, Annotated\n",
    "\n",
    "class Patient(BaseModel):\n",
    "\n",
    "    name: str\n",
    "    email: EmailStr\n",
    "    age: int\n",
    "    weight: float\n",
    "    married: bool\n",
    "    allergies: List[str]\n",
    "    contact_details: Dict[str, str]\n",
    "\n",
    "    @field_validator('email')\n",
    "    @classmethod\n",
    "    def validate_email(cls, value):\n",
    "        valid_email_domains = ['hdfc.com', 'icici.com']\n",
    "        \n",
    "        # abc@gmail.com\n",
    "        domain_name = value.split('@')[-1]\n",
    "\n",
    "        if domain_name not in valid_email_domains:\n",
    "            raise ValueError(f\"Email domain must be one of {valid_email_domains}.\")\n",
    "        \n",
    "    @field_validator('name')\n",
    "    @classmethod\n",
    "    def validate_name(cls, value):\n",
    "        return value.upper()\n",
    "\n",
    "def update_patient_data(patient: Patient):\n",
    "\n",
    "    print(patient.name)\n",
    "    print(patient.age)\n",
    "    print(patient.allergies)\n",
    "    print(patient.married)\n",
    "    print('updated')\n",
    "\n",
    "patient_info = {'name':'Aadish', 'email':'abc@icici.com', 'age': '30', 'weight': 75.2, 'married': True, 'allergies': ['pollen', 'dust'], 'contact_details':{'phone':'2353462'}}\n",
    "\n",
    "patient1 = Patient(**patient_info) # validation -> type coercion\n",
    "\n",
    "update_patient_data(patient1)"
   ]
  },
  {
   "cell_type": "markdown",
   "id": "7bba6d6c",
   "metadata": {},
   "source": [
    "<h1 style=\"color:rgb(255, 98, 0);\">3. Model Validator</h1>"
   ]
  },
  {
   "cell_type": "markdown",
   "id": "b7b81d6e",
   "metadata": {},
   "source": [
    "Model Validator is used to:\n",
    "\n",
    "👉 Apply validation across multiple fields\n",
    "\n",
    "👉 Check relationships between fields (e.g., end_date > start_date)\n",
    "\n",
    "👉 Perform post-init logic after the full model is created\n",
    "\n",
    "In short:\n",
    "\n",
    "Model Validator = Validate multiple fields together ✅"
   ]
  },
  {
   "cell_type": "code",
   "execution_count": 12,
   "id": "2c061493",
   "metadata": {},
   "outputs": [
    {
     "name": "stdout",
     "output_type": "stream",
     "text": [
      "nitish\n",
      "65\n",
      "['pollen', 'dust']\n",
      "True\n",
      "updated\n"
     ]
    }
   ],
   "source": [
    "from pydantic import BaseModel, EmailStr, model_validator\n",
    "from typing import List, Dict\n",
    "\n",
    "class Patient(BaseModel):\n",
    "\n",
    "    name: str\n",
    "    email: EmailStr\n",
    "    age: int\n",
    "    weight: float\n",
    "    married: bool\n",
    "    allergies: List[str]\n",
    "    contact_details: Dict[str, str]\n",
    "\n",
    "    @model_validator(mode='after')\n",
    "    def validate_emergency_contact(cls, model):\n",
    "        if model.age > 60 and 'emergency' not in model.contact_details:\n",
    "            raise ValueError('Patients older than 60 must have an emergency contact')\n",
    "        return model\n",
    "\n",
    "def update_patient_data(patient: Patient):\n",
    "\n",
    "    print(patient.name)\n",
    "    print(patient.age)\n",
    "    print(patient.allergies)\n",
    "    print(patient.married)\n",
    "    print('updated')\n",
    "\n",
    "patient_info = {'name':'nitish', 'email':'abc@icici.com', 'age': '65', 'weight': 75.2, 'married': True, 'allergies': ['pollen', 'dust'], 'contact_details':{'phone':'2353462', 'emergency':'235236'}}\n",
    "\n",
    "patient1 = Patient(**patient_info) \n",
    "\n",
    "update_patient_data(patient1)"
   ]
  },
  {
   "cell_type": "markdown",
   "id": "d808d667",
   "metadata": {},
   "source": [
    "<h1 style=\"color:rgb(255, 98, 0);\">4. Computed Field</h1>"
   ]
  },
  {
   "cell_type": "code",
   "execution_count": 13,
   "id": "d55a9eda",
   "metadata": {},
   "outputs": [
    {
     "name": "stdout",
     "output_type": "stream",
     "text": [
      "nitish\n",
      "65\n",
      "['pollen', 'dust']\n",
      "True\n",
      "BMI 25.42\n",
      "updated\n"
     ]
    }
   ],
   "source": [
    "from pydantic import BaseModel, EmailStr, computed_field\n",
    "from typing import List, Dict\n",
    "\n",
    "class Patient(BaseModel):\n",
    "\n",
    "    name: str\n",
    "    email: EmailStr\n",
    "    age: int\n",
    "    weight: float # kg\n",
    "    height: float # mtr\n",
    "    married: bool\n",
    "    allergies: List[str]\n",
    "    contact_details: Dict[str, str]\n",
    "\n",
    "    @computed_field\n",
    "    @property\n",
    "    def bmi(self) -> float:\n",
    "        bmi = round(self.weight/(self.height**2),2)\n",
    "        return bmi\n",
    "\n",
    "def update_patient_data(patient: Patient):\n",
    "\n",
    "    print(patient.name)\n",
    "    print(patient.age)\n",
    "    print(patient.allergies)\n",
    "    print(patient.married)\n",
    "    print('BMI', patient.bmi)\n",
    "    print('updated')\n",
    "\n",
    "patient_info = {'name':'nitish', 'email':'abc@icici.com', 'age': '65', 'weight': 75.2, 'height': 1.72, 'married': True, 'allergies': ['pollen', 'dust'], 'contact_details':{'phone':'2353462', 'emergency':'235236'}}\n",
    "\n",
    "patient1 = Patient(**patient_info) \n",
    "\n",
    "update_patient_data(patient1)"
   ]
  },
  {
   "cell_type": "markdown",
   "id": "874bdaf4",
   "metadata": {},
   "source": [
    "<h1 style=\"color:rgb(255, 98, 0);\">5. Nested Models</h1>"
   ]
  },
  {
   "cell_type": "code",
   "execution_count": 15,
   "id": "0359d3ed",
   "metadata": {},
   "outputs": [
    {
     "name": "stdout",
     "output_type": "stream",
     "text": [
      "{'name': 'nitish', 'gender': 'male', 'age': 35, 'address': {'city': 'gurgaon', 'state': 'haryana', 'pin': '122001'}}\n"
     ]
    }
   ],
   "source": [
    "from pydantic import BaseModel\n",
    "\n",
    "class Address(BaseModel):\n",
    "\n",
    "    city: str\n",
    "    state: str\n",
    "    pin: str\n",
    "\n",
    "class Patient(BaseModel):\n",
    "\n",
    "    name: str\n",
    "    gender: str\n",
    "    age: int\n",
    "    address: Address\n",
    "\n",
    "address_dict = {'city': 'gurgaon', 'state': 'haryana', 'pin': '122001'}\n",
    "\n",
    "address1 = Address(**address_dict)\n",
    "\n",
    "patient_dict = {'name': 'nitish', 'gender': 'male', 'age': 35, 'address': address1}\n",
    "\n",
    "patient1 = Patient(**patient_dict)\n",
    "\n",
    "temp = patient1.model_dump()\n",
    "\n",
    "print(temp)\n",
    "\n",
    "# Better organization of related data (e.g., vitals, address, insurance)\n",
    "\n",
    "# Reusability: Use Vitals in multiple models (e.g., Patient, MedicalRecord)\n",
    "\n",
    "# Readability: Easier for developers and API consumers to understand\n",
    "\n",
    "# Validation: Nested models are validated automatically—no extra work needed"
   ]
  },
  {
   "cell_type": "code",
   "execution_count": null,
   "id": "705cc413",
   "metadata": {},
   "outputs": [],
   "source": []
  }
 ],
 "metadata": {
  "kernelspec": {
   "display_name": "Python 3",
   "language": "python",
   "name": "python3"
  },
  "language_info": {
   "codemirror_mode": {
    "name": "ipython",
    "version": 3
   },
   "file_extension": ".py",
   "mimetype": "text/x-python",
   "name": "python",
   "nbconvert_exporter": "python",
   "pygments_lexer": "ipython3",
   "version": "3.12.4"
  }
 },
 "nbformat": 4,
 "nbformat_minor": 5
}
